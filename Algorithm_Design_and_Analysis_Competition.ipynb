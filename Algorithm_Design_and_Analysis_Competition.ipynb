{
  "nbformat": 4,
  "nbformat_minor": 0,
  "metadata": {
    "colab": {
      "provenance": []
    },
    "kernelspec": {
      "name": "python3",
      "display_name": "Python 3"
    },
    "language_info": {
      "name": "python"
    }
  },
  "cells": [
    {
      "cell_type": "markdown",
      "source": [
        "# **Mixed Team**"
      ],
      "metadata": {
        "id": "Os4b8hig4vDE"
      }
    },
    {
      "cell_type": "code",
      "execution_count": null,
      "metadata": {
        "id": "MkeQNOBK4rPw"
      },
      "outputs": [],
      "source": [
        "#!/bin/python3\n",
        "\n",
        "import math\n",
        "import os\n",
        "import random\n",
        "import re\n",
        "import sys\n",
        "\n",
        "def balance(n, M, nilai):\n",
        "    max_rating = -1\n",
        "    ditemukan = False\n",
        "    jumlah = 0\n",
        "\n",
        "\n",
        "    #Sort nilai (descending)\n",
        "    nilai.sort(reverse=True)\n",
        "\n",
        "    for i in range(n):\n",
        "        for j in range(i + 1, n):\n",
        "            for k in range(j + 1, n):\n",
        "\n",
        "                gap = max(nilai[i], nilai[j], nilai[k]) - min(nilai[i], nilai[j], nilai[k])\n",
        "\n",
        "                if gap <= M:\n",
        "                    jumlah = jumlah + 1\n",
        "                    nilai_tim = nilai[i] + nilai[j] + nilai[k]\n",
        "                    max_rating = max(max_rating, nilai_tim)\n",
        "                    ditemukan = True\n",
        "\n",
        "    if ditemukan:\n",
        "        return jumlah, max_rating\n",
        "    else:\n",
        "        return -1\n",
        "\n",
        "#Read input\n",
        "n, M = map(int, input().split())\n",
        "array = list(map(int, input().split()))\n",
        "\n",
        "#Print output setelah diproses function\n",
        "output = balance(n, M, array)\n",
        "if output == -1:\n",
        "    print(-1)\n",
        "else:\n",
        "    print(output[0], output[1])"
      ]
    },
    {
      "cell_type": "markdown",
      "source": [
        "# **Steak House**"
      ],
      "metadata": {
        "id": "t0mHX6Vf5e53"
      }
    },
    {
      "cell_type": "code",
      "source": [
        "#!/bin/python3\n",
        "\n",
        "import math\n",
        "import os\n",
        "import random\n",
        "import re\n",
        "import sys\n",
        "\n",
        "#Declare variables dan Input\n",
        "n = int(input())\n",
        "T = list(map(int,input().split()))\n",
        "A = list(map(int,input().split()))\n",
        "B = list(map(int,input().split()))\n",
        "\n",
        "#function utk mendapatkan waktu masak tercepat\n",
        "def cooking_time(n, T, A, B):\n",
        "    count = 0\n",
        "    if A[0] >= B[0]:\n",
        "        for i in range(n - 1, -1, -1):\n",
        "            if i == 0:\n",
        "                break\n",
        "            while A[i] < B[i]: #cek ketersediaan steak\n",
        "                difference = B[i] - A[i]\n",
        "                A[i] += difference\n",
        "                if i > 0:\n",
        "                    #cek waktu masak\n",
        "                    A[i - 1] -= difference\n",
        "                count += T[i - 1] * difference\n",
        "\n",
        "    if A[0] < B[0]:\n",
        "        return -1 #steak yang diinginkan tidak dapat disajikan\n",
        "    else:\n",
        "        return count #output\n",
        "print(cooking_time(n, T, A, B))"
      ],
      "metadata": {
        "id": "bOWRpmkg5hx5"
      },
      "execution_count": null,
      "outputs": []
    },
    {
      "cell_type": "markdown",
      "source": [
        "# **Obstacle Course**"
      ],
      "metadata": {
        "id": "G7NtKVPd59W-"
      }
    },
    {
      "cell_type": "code",
      "source": [
        "#Declare variable & Read Input\n",
        "\n",
        "road = int(input())\n",
        "input_segment = input()\n",
        "road_height = list(map(int, input_segment.split()))\n",
        "output = 0 #happiness\n",
        "count = 1\n",
        "\n",
        "road_segment = [0] * (road + 5)\n",
        "\n",
        "for i in range(road):\n",
        "    road_segment[i] = road_height[i]\n",
        "    if i%2 == 0 and i != 0: #input cant be zero\n",
        "        if road_segment[i]>road_segment[i-2]:\n",
        "            road_segment[i - 1] = road_segment[i - 2] +1\n",
        "        else:\n",
        "            road_segment[i - 1] = road_segment[i - 2] -1\n",
        "\n",
        "if road %2 == 0:\n",
        "    road_segment[road - 1] = road_segment[road - 2] +1\n",
        "\n",
        "#define output\n",
        "for i in range(road - 1):\n",
        "    if abs(road_segment[i+1] - road_segment[i]) ==1:\n",
        "        count +=1\n",
        "    else:\n",
        "        if i%2 == 0:\n",
        "            count = 1\n",
        "        else:\n",
        "            count = 2\n",
        "    output = max(output, count)\n",
        "\n",
        "print(output)"
      ],
      "metadata": {
        "id": "vKb3vDRl6ABL"
      },
      "execution_count": null,
      "outputs": []
    },
    {
      "cell_type": "markdown",
      "source": [
        "# **Game Of Math**"
      ],
      "metadata": {
        "id": "97O58Iyb6a7S"
      }
    },
    {
      "cell_type": "code",
      "source": [
        "a, b = map(int, input().split())\n",
        "\n",
        "minimal = b\n",
        "maximal = b\n",
        "\n",
        "for _ in range(a):\n",
        "    c = input().split()\n",
        "    symbol1 = c[0]\n",
        "    x1 = int(c[1])\n",
        "    symbol2 = c[2]\n",
        "    x2 = int(c[3])\n",
        "\n",
        "    if symbol1 == '+':\n",
        "        i = minimal + x1\n",
        "        j = maximal + x1\n",
        "    else:\n",
        "        i = minimal * x1\n",
        "        j = maximal * x1\n",
        "\n",
        "    if symbol2 == '+':\n",
        "        k = minimal + x2\n",
        "        l = maximal + x2\n",
        "    else:\n",
        "        k = minimal * x2\n",
        "        l = maximal * x2\n",
        "\n",
        "    minimal = min(i, min(k, min(j, l)))\n",
        "    maximal = max(i, max(k, max(j, l)))\n",
        "\n",
        "print(max(minimal, maximal))"
      ],
      "metadata": {
        "id": "ifh5KwHs6dQT"
      },
      "execution_count": null,
      "outputs": []
    }
  ]
}